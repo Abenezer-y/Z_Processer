{
 "cells": [
  {
   "cell_type": "code",
   "execution_count": 1,
   "metadata": {},
   "outputs": [],
   "source": [
    "import pandas as pd \n",
    "import requests\n",
    "import json\n",
    "import datetime\n",
    "import tensorflow\n",
    "from tensorflow import keras\n",
    "from tensorflow.keras.preprocessing.text import Tokenizer"
   ]
  },
  {
   "cell_type": "code",
   "execution_count": 2,
   "metadata": {},
   "outputs": [],
   "source": [
    "# Requires the PyMongo package.\n",
    "# https://api.mongodb.com/python/current\n",
    "\n",
    "insertOne_URI = \"https://data.mongodb-api.com/app/data-qhlxu/endpoint/data/beta/action/insertOne\"\n",
    "findOne_URI = \"https://data.mongodb-api.com/app/data-qhlxu/endpoint/data/beta/action/findOne\"\n",
    "find_URI = \"https://data.mongodb-api.com/app/data-qhlxu/endpoint/data/beta/action/find\"\n",
    "insertMany_URI = \"https://data.mongodb-api.com/app/data-qhlxu/endpoint/data/beta/action/insertMany\"\n",
    "\n",
    "headers = {\n",
    "    'Content-Type': 'application/json',\n",
    "    'Access-Control-Request-Headers': '*',\n",
    "    'api-key': 'a2pJneejPLob94PzqiGZbsJqzxHnIEmyDXFG8S3QqZUHGQAkky00piofpaJTiJap'\n",
    "}\n"
   ]
  },
  {
   "cell_type": "code",
   "execution_count": 3,
   "metadata": {},
   "outputs": [],
   "source": [
    "payload = json.dumps(\n",
    "    {\n",
    "    \"collection\": \"youtube_channel_corpus\", \n",
    "    \"database\": \"ethiopian_music\", \n",
    "    \"dataSource\": \"Cluster0\", \n",
    "    \"filter\": {},\n",
    "    \"sort\": { \"Meta\": 1 },\n",
    "    \"limit\": 10\n",
    "    })\n"
   ]
  },
  {
   "cell_type": "code",
   "execution_count": 6,
   "metadata": {},
   "outputs": [],
   "source": [
    "response = requests.request(\"POST\", find_URI, headers=headers, data=payload)\n",
    "response_j = response.json()\n",
    "print(response_j['documents'][0])\n"
   ]
  },
  {
   "cell_type": "code",
   "execution_count": 18,
   "metadata": {},
   "outputs": [
    {
     "name": "stdout",
     "output_type": "stream",
     "text": [
      "{'_id': 'Znar Entertainment_8', 'Channel': 'Znar Entertainment', 'Meta': '! Amanuel Yemane ( ኣማኑኤል የማነ ) - ነብሮ ( Nebro ) New Tigrigna Music 2022 by Znar Entertainment 2 weeks ago 16 minutes 3,008 views', 'Link': 'https://www.youtube.com/watch?v=bRXQzkF3wUs', 'Collection Date': '2022-03-03 12:26:26.301874'}\n"
     ]
    }
   ],
   "source": [
    "\n",
    "response_j = response.json()\n",
    "print(response_j['documents'][0])"
   ]
  },
  {
   "cell_type": "code",
   "execution_count": 44,
   "metadata": {},
   "outputs": [
    {
     "name": "stdout",
     "output_type": "stream",
     "text": [
      "['! Amanuel Yemane ( ኣማኑኤል የማነ ) - ነብሮ ( Nebro ) New Tigrigna Music 2022 by Znar Entertainment 2 weeks ago 16 minutes 3,008 views', '! Bayim Rebin In Palestina 2022 by Znar Entertainment 2 months ago 5 minutes, 43 seconds 6,508 views', '! Be A Firist 2022 by Znar Entertainment 2 months ago 5 minutes, 45 seconds 7,101 views', '! Berhane Haile ( ብርሃነ ሃይለ ) - ኣርሓ (Arha) New Tigrigna Music 2022 by Znar Entertainment 13 days ago 8 minutes, 41 seconds 1,602 views', '! Born A Rockstar 2022 by Znar Entertainment 1 month ago 6 minutes, 58 seconds 1,741 views', '! Built To Last 2022 by Znar Entertainment 3 weeks ago 6 minutes, 5 seconds 1,691 views', '! By The Fire Place ( 2 ) 2022 by Znar Entertainment 1 month ago 4 minutes, 8 seconds 2,921 views', '! By The Fireplace (3) 2022 by Znar Entertainment 1 month ago 6 minutes 5,456 views', '! By The Fireplace 2022 by Znar Entertainment 1 month ago 5 minutes, 2 seconds 37,623 views', '! Eden Gebreslasie ( ኤደን ገብረስላሴ ) - ብስረና ( Bsrena ) New Tigrigna Music 2022 by Znar Entertainment 2 weeks ago 12 minutes, 34 seconds 2,289 views']\n"
     ]
    }
   ],
   "source": [
    "text_file = response.text\n",
    "doc_array = text_file.split(\"[\")\n",
    "doc_array = doc_array[1].split(\"]\")\n",
    "doc_array = doc_array[0].split('{\"_id\":')\n",
    "doc_array = doc_array[1:]\n",
    "\n",
    "new_doc_array = []\n",
    "for text in doc_array:\n",
    "    split_text = text.split('\",\"Link\":')\n",
    "    split_text = split_text[0].split('Meta\":\"')\n",
    "    new_doc_array.append(split_text[1])\n",
    "print(new_doc_array)"
   ]
  },
  {
   "cell_type": "code",
   "execution_count": 45,
   "metadata": {},
   "outputs": [
    {
     "name": "stdout",
     "output_type": "stream",
     "text": [
      "{'by': 1, '2022': 2, 'znar': 3, 'entertainment': 4, 'ago': 5, 'minutes': 6, 'views': 7, '2': 8, 'seconds': 9, '1': 10, '5': 11, '6': 12, 'month': 13, 'new': 14, 'tigrigna': 15, 'music': 16, 'weeks': 17, '3': 18, 'the': 19, 'months': 20, 'a': 21, '8': 22, 'fireplace': 23, 'amanuel': 24, 'yemane': 25, 'ኣማኑኤል': 26, 'የማነ': 27, 'ነብሮ': 28, 'nebro': 29, '16': 30, '008': 31, 'bayim': 32, 'rebin': 33, 'in': 34, 'palestina': 35, '43': 36, '508': 37, 'be': 38, 'firist': 39, '45': 40, '7': 41, '101': 42, 'berhane': 43, 'haile': 44, 'ብርሃነ': 45, 'ሃይለ': 46, 'ኣርሓ': 47, 'arha': 48, '13': 49, 'days': 50, '41': 51, '602': 52, 'born': 53, 'rockstar': 54, '58': 55, '741': 56, 'built': 57, 'to': 58, 'last': 59, '691': 60, 'fire': 61, 'place': 62, '4': 63, '921': 64, '456': 65, '37': 66, '623': 67, 'eden': 68, 'gebreslasie': 69, 'ኤደን': 70, 'ገብረስላሴ': 71, 'ብስረና': 72, 'bsrena': 73, '12': 74, '34': 75, '289': 76}\n"
     ]
    }
   ],
   "source": [
    "tokenizer = Tokenizer(num_words=10)\n",
    "tokenizer.fit_on_texts(new_doc_array)\n",
    "word_index = tokenizer.word_index\n",
    "print(word_index)"
   ]
  },
  {
   "cell_type": "code",
   "execution_count": 46,
   "metadata": {},
   "outputs": [
    {
     "ename": "OSError",
     "evalue": "[E050] Can't find model 'en_core_web_sm'. It doesn't seem to be a Python package or a valid path to a data directory.",
     "output_type": "error",
     "traceback": [
      "\u001b[1;31m---------------------------------------------------------------------------\u001b[0m",
      "\u001b[1;31mOSError\u001b[0m                                   Traceback (most recent call last)",
      "\u001b[1;32me:\\Users\\abega\\Documents\\Data Projects\\Z_Processer\\name_recognition.ipynb Cell 7'\u001b[0m in \u001b[0;36m<cell line: 3>\u001b[1;34m()\u001b[0m\n\u001b[0;32m      <a href='vscode-notebook-cell:/e%3A/Users/abega/Documents/Data%20Projects/Z_Processer/name_recognition.ipynb#ch0000006?line=0'>1</a>\u001b[0m \u001b[39mimport\u001b[39;00m \u001b[39mspacy\u001b[39;00m\n\u001b[1;32m----> <a href='vscode-notebook-cell:/e%3A/Users/abega/Documents/Data%20Projects/Z_Processer/name_recognition.ipynb#ch0000006?line=2'>3</a>\u001b[0m nlp \u001b[39m=\u001b[39m spacy\u001b[39m.\u001b[39;49mload(\u001b[39m\"\u001b[39;49m\u001b[39men_core_web_sm\u001b[39;49m\u001b[39m\"\u001b[39;49m)\n\u001b[0;32m      <a href='vscode-notebook-cell:/e%3A/Users/abega/Documents/Data%20Projects/Z_Processer/name_recognition.ipynb#ch0000006?line=3'>4</a>\u001b[0m doc \u001b[39m=\u001b[39m nlp(\u001b[39m\"\u001b[39m\u001b[39mApple is looking at buying U.K. startup for $1 billion\u001b[39m\u001b[39m\"\u001b[39m)\n",
      "File \u001b[1;32m~\\AppData\\Local\\Programs\\Python\\Python39\\lib\\site-packages\\spacy\\__init__.py:51\u001b[0m, in \u001b[0;36mload\u001b[1;34m(name, vocab, disable, exclude, config)\u001b[0m\n\u001b[0;32m     <a href='file:///e%3A/Users/abega/AppData/Local/Programs/Python/Python39/lib/site-packages/spacy/__init__.py?line=29'>30</a>\u001b[0m \u001b[39mdef\u001b[39;00m \u001b[39mload\u001b[39m(\n\u001b[0;32m     <a href='file:///e%3A/Users/abega/AppData/Local/Programs/Python/Python39/lib/site-packages/spacy/__init__.py?line=30'>31</a>\u001b[0m     name: Union[\u001b[39mstr\u001b[39m, Path],\n\u001b[0;32m     <a href='file:///e%3A/Users/abega/AppData/Local/Programs/Python/Python39/lib/site-packages/spacy/__init__.py?line=31'>32</a>\u001b[0m     \u001b[39m*\u001b[39m,\n\u001b[1;32m   (...)\u001b[0m\n\u001b[0;32m     <a href='file:///e%3A/Users/abega/AppData/Local/Programs/Python/Python39/lib/site-packages/spacy/__init__.py?line=35'>36</a>\u001b[0m     config: Union[Dict[\u001b[39mstr\u001b[39m, Any], Config] \u001b[39m=\u001b[39m util\u001b[39m.\u001b[39mSimpleFrozenDict(),\n\u001b[0;32m     <a href='file:///e%3A/Users/abega/AppData/Local/Programs/Python/Python39/lib/site-packages/spacy/__init__.py?line=36'>37</a>\u001b[0m ) \u001b[39m-\u001b[39m\u001b[39m>\u001b[39m Language:\n\u001b[0;32m     <a href='file:///e%3A/Users/abega/AppData/Local/Programs/Python/Python39/lib/site-packages/spacy/__init__.py?line=37'>38</a>\u001b[0m     \u001b[39m\"\"\"Load a spaCy model from an installed package or a local path.\u001b[39;00m\n\u001b[0;32m     <a href='file:///e%3A/Users/abega/AppData/Local/Programs/Python/Python39/lib/site-packages/spacy/__init__.py?line=38'>39</a>\u001b[0m \n\u001b[0;32m     <a href='file:///e%3A/Users/abega/AppData/Local/Programs/Python/Python39/lib/site-packages/spacy/__init__.py?line=39'>40</a>\u001b[0m \u001b[39m    name (str): Package name or model path.\u001b[39;00m\n\u001b[1;32m   (...)\u001b[0m\n\u001b[0;32m     <a href='file:///e%3A/Users/abega/AppData/Local/Programs/Python/Python39/lib/site-packages/spacy/__init__.py?line=48'>49</a>\u001b[0m \u001b[39m    RETURNS (Language): The loaded nlp object.\u001b[39;00m\n\u001b[0;32m     <a href='file:///e%3A/Users/abega/AppData/Local/Programs/Python/Python39/lib/site-packages/spacy/__init__.py?line=49'>50</a>\u001b[0m \u001b[39m    \"\"\"\u001b[39;00m\n\u001b[1;32m---> <a href='file:///e%3A/Users/abega/AppData/Local/Programs/Python/Python39/lib/site-packages/spacy/__init__.py?line=50'>51</a>\u001b[0m     \u001b[39mreturn\u001b[39;00m util\u001b[39m.\u001b[39;49mload_model(\n\u001b[0;32m     <a href='file:///e%3A/Users/abega/AppData/Local/Programs/Python/Python39/lib/site-packages/spacy/__init__.py?line=51'>52</a>\u001b[0m         name, vocab\u001b[39m=\u001b[39;49mvocab, disable\u001b[39m=\u001b[39;49mdisable, exclude\u001b[39m=\u001b[39;49mexclude, config\u001b[39m=\u001b[39;49mconfig\n\u001b[0;32m     <a href='file:///e%3A/Users/abega/AppData/Local/Programs/Python/Python39/lib/site-packages/spacy/__init__.py?line=52'>53</a>\u001b[0m     )\n",
      "File \u001b[1;32m~\\AppData\\Local\\Programs\\Python\\Python39\\lib\\site-packages\\spacy\\util.py:427\u001b[0m, in \u001b[0;36mload_model\u001b[1;34m(name, vocab, disable, exclude, config)\u001b[0m\n\u001b[0;32m    <a href='file:///e%3A/Users/abega/AppData/Local/Programs/Python/Python39/lib/site-packages/spacy/util.py?line=424'>425</a>\u001b[0m \u001b[39mif\u001b[39;00m name \u001b[39min\u001b[39;00m OLD_MODEL_SHORTCUTS:\n\u001b[0;32m    <a href='file:///e%3A/Users/abega/AppData/Local/Programs/Python/Python39/lib/site-packages/spacy/util.py?line=425'>426</a>\u001b[0m     \u001b[39mraise\u001b[39;00m \u001b[39mIOError\u001b[39;00m(Errors\u001b[39m.\u001b[39mE941\u001b[39m.\u001b[39mformat(name\u001b[39m=\u001b[39mname, full\u001b[39m=\u001b[39mOLD_MODEL_SHORTCUTS[name]))  \u001b[39m# type: ignore[index]\u001b[39;00m\n\u001b[1;32m--> <a href='file:///e%3A/Users/abega/AppData/Local/Programs/Python/Python39/lib/site-packages/spacy/util.py?line=426'>427</a>\u001b[0m \u001b[39mraise\u001b[39;00m \u001b[39mIOError\u001b[39;00m(Errors\u001b[39m.\u001b[39mE050\u001b[39m.\u001b[39mformat(name\u001b[39m=\u001b[39mname))\n",
      "\u001b[1;31mOSError\u001b[0m: [E050] Can't find model 'en_core_web_sm'. It doesn't seem to be a Python package or a valid path to a data directory."
     ]
    }
   ],
   "source": [
    "import spacy\n",
    "\n",
    "nlp = spacy.load(\"en_core_web_sm\")\n",
    "doc = nlp(\"Apple is looking at buying U.K. startup for $1 billion\")"
   ]
  }
 ],
 "metadata": {
  "interpreter": {
   "hash": "34a834f15b212fdb7568439d83a97552b7b5dafb87b2385f811f0571e82fb4f9"
  },
  "kernelspec": {
   "display_name": "Python 3.9.7 64-bit",
   "language": "python",
   "name": "python3"
  },
  "language_info": {
   "codemirror_mode": {
    "name": "ipython",
    "version": 3
   },
   "file_extension": ".py",
   "mimetype": "text/x-python",
   "name": "python",
   "nbconvert_exporter": "python",
   "pygments_lexer": "ipython3",
   "version": "3.9.7"
  },
  "orig_nbformat": 4
 },
 "nbformat": 4,
 "nbformat_minor": 2
}
