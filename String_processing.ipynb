{
 "cells": [
  {
   "cell_type": "code",
   "execution_count": 2,
   "metadata": {},
   "outputs": [],
   "source": [
    "import pandas as pd \n",
    "import requests\n",
    "import json\n",
    "import datetime\n",
    "from os.path import exists\n",
    "from collections import Counter"
   ]
  },
  {
   "cell_type": "code",
   "execution_count": 17,
   "metadata": {},
   "outputs": [],
   "source": [
    "# Requires the PyMongo package.\n",
    "# https://api.mongodb.com/python/current\n",
    "\n",
    "insertOne_URI = \"https://data.mongodb-api.com/app/data-qhlxu/endpoint/data/beta/action/insertOne\"\n",
    "findOne_URI = \"https://data.mongodb-api.com/app/data-qhlxu/endpoint/data/beta/action/findOne\"\n",
    "find_URI = \"https://data.mongodb-api.com/app/data-qhlxu/endpoint/data/beta/action/find\"\n",
    "insertMany_URI = \"https://data.mongodb-api.com/app/data-qhlxu/endpoint/data/beta/action/insertMany\"\n",
    "updateOne_URI = \"https://data.mongodb-api.com/app/data-qhlxu/endpoint/data/beta/action/updateOne\"\n",
    "\n",
    "headers = {'Content-Type': 'application/json', 'Access-Control-Request-Headers': '*', 'api-key': 'a2pJneejPLob94PzqiGZbsJqzxHnIEmyDXFG8S3QqZUHGQAkky00piofpaJTiJap'}\n",
    "\n",
    "channel_list = pd.read_excel('links.xlsx')\n",
    "\n",
    "channel_list.to_csv('link.csv')"
   ]
  },
  {
   "cell_type": "code",
   "execution_count": 3,
   "metadata": {},
   "outputs": [],
   "source": [
    "channel_list = pd.read_excel('E:/Users/abega/Documents/Data Projects/scrapper/Output/links.xlsx')\n",
    "frames = []"
   ]
  },
  {
   "cell_type": "code",
   "execution_count": 22,
   "metadata": {},
   "outputs": [
    {
     "ename": "IndexError",
     "evalue": "index 0 is out of bounds for axis 0 with size 0",
     "output_type": "error",
     "traceback": [
      "\u001b[1;31m---------------------------------------------------------------------------\u001b[0m",
      "\u001b[1;31mIndexError\u001b[0m                                Traceback (most recent call last)",
      "\u001b[1;32me:\\Users\\abega\\Documents\\Data Projects\\Z_Processer\\String_processing.ipynb Cell 4'\u001b[0m in \u001b[0;36m<cell line: 3>\u001b[1;34m()\u001b[0m\n\u001b[0;32m     <a href='vscode-notebook-cell:/e%3A/Users/abega/Documents/Data%20Projects/Z_Processer/String_processing.ipynb#ch0000003?line=15'>16</a>\u001b[0m     df_2 \u001b[39m=\u001b[39m pd\u001b[39m.\u001b[39mread_excel(file_2)\n\u001b[0;32m     <a href='vscode-notebook-cell:/e%3A/Users/abega/Documents/Data%20Projects/Z_Processer/String_processing.ipynb#ch0000003?line=16'>17</a>\u001b[0m     df_2 \u001b[39m=\u001b[39m df_2[df_2[\u001b[39m'\u001b[39m\u001b[39mlink\u001b[39m\u001b[39m'\u001b[39m]\u001b[39m==\u001b[39mlink][\u001b[39m'\u001b[39m\u001b[39mmeta\u001b[39m\u001b[39m'\u001b[39m]\n\u001b[1;32m---> <a href='vscode-notebook-cell:/e%3A/Users/abega/Documents/Data%20Projects/Z_Processer/String_processing.ipynb#ch0000003?line=17'>18</a>\u001b[0m     views_2 \u001b[39m=\u001b[39m \u001b[39mlist\u001b[39m(Counter(df_2\u001b[39m.\u001b[39;49mvalues[\u001b[39m0\u001b[39;49m]\u001b[39m.\u001b[39msplit()))[\u001b[39m-\u001b[39m\u001b[39m2\u001b[39m]\n\u001b[0;32m     <a href='vscode-notebook-cell:/e%3A/Users/abega/Documents/Data%20Projects/Z_Processer/String_processing.ipynb#ch0000003?line=19'>20</a>\u001b[0m \u001b[39melse\u001b[39;00m:\n\u001b[0;32m     <a href='vscode-notebook-cell:/e%3A/Users/abega/Documents/Data%20Projects/Z_Processer/String_processing.ipynb#ch0000003?line=20'>21</a>\u001b[0m     views_2 \u001b[39m=\u001b[39m \u001b[39m'\u001b[39m\u001b[39m0\u001b[39m\u001b[39m'\u001b[39m\n",
      "\u001b[1;31mIndexError\u001b[0m: index 0 is out of bounds for axis 0 with size 0"
     ]
    }
   ],
   "source": [
    "data = {'Posts': [], 'Channel': [], 'Views_03/03':[], 'Views_03/12':[], 'view_delta': []}\n",
    "j = 61\n",
    "for name in channel_list['Names'].values[j:]:\n",
    "    file_path = f'E:/Users/abega/Documents/Data Projects/scrapper/Output/channel/March 5/{name}.xlsx'\n",
    "    if exists(file_path):\n",
    "        df = pd.read_excel(file_path)\n",
    "        meta = df['meta'].values\n",
    "        links = df['link'].values\n",
    "        i = 0\n",
    "        for text in meta:\n",
    "            link = links[i]\n",
    "            views = list(Counter(text.split()))[-2]\n",
    "            \n",
    "            file_2 = f'E:/Users/abega/Documents/Data Projects/scrapper/Output/channel/March 12/{name}.xlsx'\n",
    "            if exists(file_2):\n",
    "                df_2 = pd.read_excel(file_2)\n",
    "                df_2 = df_2[df_2['link']==link]['meta']\n",
    "                views_2 = list(Counter(df_2.values[0].split()))[-2]\n",
    "\n",
    "            else:\n",
    "                views_2 = '0'\n",
    "            try:\n",
    "                delta = int(views_2.replace(',', '')) - int(views.replace(',', ''))\n",
    "                data['Posts'].append(text)\n",
    "                data['Channel'].append(name)\n",
    "                data['Views_03/03'].append(int(views.replace(',', '')))\n",
    "                data['Views_03/12'].append(int(views_2.replace(',', '')))\n",
    "                data['view_delta'].append(delta)\n",
    "                i = i +1\n",
    "            except:\n",
    "                i = i +1\n",
    "\n",
    "    df_4 = pd.DataFrame(data)\n",
    "    df_4.to_csv(f'{name}.csv')\n",
    "    j= j + 1\n",
    "    print(j)\n",
    "\n"
   ]
  },
  {
   "cell_type": "code",
   "execution_count": 24,
   "metadata": {},
   "outputs": [
    {
     "ename": "KeyboardInterrupt",
     "evalue": "",
     "output_type": "error",
     "traceback": [
      "\u001b[1;31m---------------------------------------------------------------------------\u001b[0m",
      "\u001b[1;31mKeyboardInterrupt\u001b[0m                         Traceback (most recent call last)",
      "\u001b[1;32me:\\Users\\abega\\Documents\\Data Projects\\Z_Processer\\String_processing.ipynb Cell 3'\u001b[0m in \u001b[0;36m<cell line: 3>\u001b[1;34m()\u001b[0m\n\u001b[0;32m      <a href='vscode-notebook-cell:/e%3A/Users/abega/Documents/Data%20Projects/Z_Processer/String_processing.ipynb#ch0000002?line=3'>4</a>\u001b[0m     file_path \u001b[39m=\u001b[39m \u001b[39mf\u001b[39m\u001b[39m'\u001b[39m\u001b[39mE:/Users/abega/Documents/Data Projects/scrapper/Output/channel/March 5/\u001b[39m\u001b[39m{\u001b[39;00mname\u001b[39m}\u001b[39;00m\u001b[39m.xlsx\u001b[39m\u001b[39m'\u001b[39m\n\u001b[0;32m      <a href='vscode-notebook-cell:/e%3A/Users/abega/Documents/Data%20Projects/Z_Processer/String_processing.ipynb#ch0000002?line=4'>5</a>\u001b[0m     \u001b[39mif\u001b[39;00m exists(file_path):\n\u001b[1;32m----> <a href='vscode-notebook-cell:/e%3A/Users/abega/Documents/Data%20Projects/Z_Processer/String_processing.ipynb#ch0000002?line=5'>6</a>\u001b[0m         df \u001b[39m=\u001b[39m pd\u001b[39m.\u001b[39;49mread_excel(file_path)\n\u001b[0;32m      <a href='vscode-notebook-cell:/e%3A/Users/abega/Documents/Data%20Projects/Z_Processer/String_processing.ipynb#ch0000002?line=6'>7</a>\u001b[0m         frames\u001b[39m.\u001b[39mappend(df)\n\u001b[0;32m      <a href='vscode-notebook-cell:/e%3A/Users/abega/Documents/Data%20Projects/Z_Processer/String_processing.ipynb#ch0000002?line=7'>8</a>\u001b[0m result \u001b[39m=\u001b[39m pd\u001b[39m.\u001b[39mconcat(frames, ignore_index\u001b[39m=\u001b[39m\u001b[39mTrue\u001b[39;00m)\n",
      "File \u001b[1;32m~\\AppData\\Local\\Programs\\Python\\Python39\\lib\\site-packages\\pandas\\util\\_decorators.py:311\u001b[0m, in \u001b[0;36mdeprecate_nonkeyword_arguments.<locals>.decorate.<locals>.wrapper\u001b[1;34m(*args, **kwargs)\u001b[0m\n\u001b[0;32m    <a href='file:///e%3A/Users/abega/AppData/Local/Programs/Python/Python39/lib/site-packages/pandas/util/_decorators.py?line=304'>305</a>\u001b[0m \u001b[39mif\u001b[39;00m \u001b[39mlen\u001b[39m(args) \u001b[39m>\u001b[39m num_allow_args:\n\u001b[0;32m    <a href='file:///e%3A/Users/abega/AppData/Local/Programs/Python/Python39/lib/site-packages/pandas/util/_decorators.py?line=305'>306</a>\u001b[0m     warnings\u001b[39m.\u001b[39mwarn(\n\u001b[0;32m    <a href='file:///e%3A/Users/abega/AppData/Local/Programs/Python/Python39/lib/site-packages/pandas/util/_decorators.py?line=306'>307</a>\u001b[0m         msg\u001b[39m.\u001b[39mformat(arguments\u001b[39m=\u001b[39marguments),\n\u001b[0;32m    <a href='file:///e%3A/Users/abega/AppData/Local/Programs/Python/Python39/lib/site-packages/pandas/util/_decorators.py?line=307'>308</a>\u001b[0m         \u001b[39mFutureWarning\u001b[39;00m,\n\u001b[0;32m    <a href='file:///e%3A/Users/abega/AppData/Local/Programs/Python/Python39/lib/site-packages/pandas/util/_decorators.py?line=308'>309</a>\u001b[0m         stacklevel\u001b[39m=\u001b[39mstacklevel,\n\u001b[0;32m    <a href='file:///e%3A/Users/abega/AppData/Local/Programs/Python/Python39/lib/site-packages/pandas/util/_decorators.py?line=309'>310</a>\u001b[0m     )\n\u001b[1;32m--> <a href='file:///e%3A/Users/abega/AppData/Local/Programs/Python/Python39/lib/site-packages/pandas/util/_decorators.py?line=310'>311</a>\u001b[0m \u001b[39mreturn\u001b[39;00m func(\u001b[39m*\u001b[39margs, \u001b[39m*\u001b[39m\u001b[39m*\u001b[39mkwargs)\n",
      "File \u001b[1;32m~\\AppData\\Local\\Programs\\Python\\Python39\\lib\\site-packages\\pandas\\io\\excel\\_base.py:465\u001b[0m, in \u001b[0;36mread_excel\u001b[1;34m(io, sheet_name, header, names, index_col, usecols, squeeze, dtype, engine, converters, true_values, false_values, skiprows, nrows, na_values, keep_default_na, na_filter, verbose, parse_dates, date_parser, thousands, decimal, comment, skipfooter, convert_float, mangle_dupe_cols, storage_options)\u001b[0m\n\u001b[0;32m    <a href='file:///e%3A/Users/abega/AppData/Local/Programs/Python/Python39/lib/site-packages/pandas/io/excel/_base.py?line=458'>459</a>\u001b[0m     \u001b[39mraise\u001b[39;00m \u001b[39mValueError\u001b[39;00m(\n\u001b[0;32m    <a href='file:///e%3A/Users/abega/AppData/Local/Programs/Python/Python39/lib/site-packages/pandas/io/excel/_base.py?line=459'>460</a>\u001b[0m         \u001b[39m\"\u001b[39m\u001b[39mEngine should not be specified when passing \u001b[39m\u001b[39m\"\u001b[39m\n\u001b[0;32m    <a href='file:///e%3A/Users/abega/AppData/Local/Programs/Python/Python39/lib/site-packages/pandas/io/excel/_base.py?line=460'>461</a>\u001b[0m         \u001b[39m\"\u001b[39m\u001b[39man ExcelFile - ExcelFile already has the engine set\u001b[39m\u001b[39m\"\u001b[39m\n\u001b[0;32m    <a href='file:///e%3A/Users/abega/AppData/Local/Programs/Python/Python39/lib/site-packages/pandas/io/excel/_base.py?line=461'>462</a>\u001b[0m     )\n\u001b[0;32m    <a href='file:///e%3A/Users/abega/AppData/Local/Programs/Python/Python39/lib/site-packages/pandas/io/excel/_base.py?line=463'>464</a>\u001b[0m \u001b[39mtry\u001b[39;00m:\n\u001b[1;32m--> <a href='file:///e%3A/Users/abega/AppData/Local/Programs/Python/Python39/lib/site-packages/pandas/io/excel/_base.py?line=464'>465</a>\u001b[0m     data \u001b[39m=\u001b[39m io\u001b[39m.\u001b[39;49mparse(\n\u001b[0;32m    <a href='file:///e%3A/Users/abega/AppData/Local/Programs/Python/Python39/lib/site-packages/pandas/io/excel/_base.py?line=465'>466</a>\u001b[0m         sheet_name\u001b[39m=\u001b[39;49msheet_name,\n\u001b[0;32m    <a href='file:///e%3A/Users/abega/AppData/Local/Programs/Python/Python39/lib/site-packages/pandas/io/excel/_base.py?line=466'>467</a>\u001b[0m         header\u001b[39m=\u001b[39;49mheader,\n\u001b[0;32m    <a href='file:///e%3A/Users/abega/AppData/Local/Programs/Python/Python39/lib/site-packages/pandas/io/excel/_base.py?line=467'>468</a>\u001b[0m         names\u001b[39m=\u001b[39;49mnames,\n\u001b[0;32m    <a href='file:///e%3A/Users/abega/AppData/Local/Programs/Python/Python39/lib/site-packages/pandas/io/excel/_base.py?line=468'>469</a>\u001b[0m         index_col\u001b[39m=\u001b[39;49mindex_col,\n\u001b[0;32m    <a href='file:///e%3A/Users/abega/AppData/Local/Programs/Python/Python39/lib/site-packages/pandas/io/excel/_base.py?line=469'>470</a>\u001b[0m         usecols\u001b[39m=\u001b[39;49musecols,\n\u001b[0;32m    <a href='file:///e%3A/Users/abega/AppData/Local/Programs/Python/Python39/lib/site-packages/pandas/io/excel/_base.py?line=470'>471</a>\u001b[0m         squeeze\u001b[39m=\u001b[39;49msqueeze,\n\u001b[0;32m    <a href='file:///e%3A/Users/abega/AppData/Local/Programs/Python/Python39/lib/site-packages/pandas/io/excel/_base.py?line=471'>472</a>\u001b[0m         dtype\u001b[39m=\u001b[39;49mdtype,\n\u001b[0;32m    <a href='file:///e%3A/Users/abega/AppData/Local/Programs/Python/Python39/lib/site-packages/pandas/io/excel/_base.py?line=472'>473</a>\u001b[0m         converters\u001b[39m=\u001b[39;49mconverters,\n\u001b[0;32m    <a href='file:///e%3A/Users/abega/AppData/Local/Programs/Python/Python39/lib/site-packages/pandas/io/excel/_base.py?line=473'>474</a>\u001b[0m         true_values\u001b[39m=\u001b[39;49mtrue_values,\n\u001b[0;32m    <a href='file:///e%3A/Users/abega/AppData/Local/Programs/Python/Python39/lib/site-packages/pandas/io/excel/_base.py?line=474'>475</a>\u001b[0m         false_values\u001b[39m=\u001b[39;49mfalse_values,\n\u001b[0;32m    <a href='file:///e%3A/Users/abega/AppData/Local/Programs/Python/Python39/lib/site-packages/pandas/io/excel/_base.py?line=475'>476</a>\u001b[0m         skiprows\u001b[39m=\u001b[39;49mskiprows,\n\u001b[0;32m    <a href='file:///e%3A/Users/abega/AppData/Local/Programs/Python/Python39/lib/site-packages/pandas/io/excel/_base.py?line=476'>477</a>\u001b[0m         nrows\u001b[39m=\u001b[39;49mnrows,\n\u001b[0;32m    <a href='file:///e%3A/Users/abega/AppData/Local/Programs/Python/Python39/lib/site-packages/pandas/io/excel/_base.py?line=477'>478</a>\u001b[0m         na_values\u001b[39m=\u001b[39;49mna_values,\n\u001b[0;32m    <a href='file:///e%3A/Users/abega/AppData/Local/Programs/Python/Python39/lib/site-packages/pandas/io/excel/_base.py?line=478'>479</a>\u001b[0m         keep_default_na\u001b[39m=\u001b[39;49mkeep_default_na,\n\u001b[0;32m    <a href='file:///e%3A/Users/abega/AppData/Local/Programs/Python/Python39/lib/site-packages/pandas/io/excel/_base.py?line=479'>480</a>\u001b[0m         na_filter\u001b[39m=\u001b[39;49mna_filter,\n\u001b[0;32m    <a href='file:///e%3A/Users/abega/AppData/Local/Programs/Python/Python39/lib/site-packages/pandas/io/excel/_base.py?line=480'>481</a>\u001b[0m         verbose\u001b[39m=\u001b[39;49mverbose,\n\u001b[0;32m    <a href='file:///e%3A/Users/abega/AppData/Local/Programs/Python/Python39/lib/site-packages/pandas/io/excel/_base.py?line=481'>482</a>\u001b[0m         parse_dates\u001b[39m=\u001b[39;49mparse_dates,\n\u001b[0;32m    <a href='file:///e%3A/Users/abega/AppData/Local/Programs/Python/Python39/lib/site-packages/pandas/io/excel/_base.py?line=482'>483</a>\u001b[0m         date_parser\u001b[39m=\u001b[39;49mdate_parser,\n\u001b[0;32m    <a href='file:///e%3A/Users/abega/AppData/Local/Programs/Python/Python39/lib/site-packages/pandas/io/excel/_base.py?line=483'>484</a>\u001b[0m         thousands\u001b[39m=\u001b[39;49mthousands,\n\u001b[0;32m    <a href='file:///e%3A/Users/abega/AppData/Local/Programs/Python/Python39/lib/site-packages/pandas/io/excel/_base.py?line=484'>485</a>\u001b[0m         decimal\u001b[39m=\u001b[39;49mdecimal,\n\u001b[0;32m    <a href='file:///e%3A/Users/abega/AppData/Local/Programs/Python/Python39/lib/site-packages/pandas/io/excel/_base.py?line=485'>486</a>\u001b[0m         comment\u001b[39m=\u001b[39;49mcomment,\n\u001b[0;32m    <a href='file:///e%3A/Users/abega/AppData/Local/Programs/Python/Python39/lib/site-packages/pandas/io/excel/_base.py?line=486'>487</a>\u001b[0m         skipfooter\u001b[39m=\u001b[39;49mskipfooter,\n\u001b[0;32m    <a href='file:///e%3A/Users/abega/AppData/Local/Programs/Python/Python39/lib/site-packages/pandas/io/excel/_base.py?line=487'>488</a>\u001b[0m         convert_float\u001b[39m=\u001b[39;49mconvert_float,\n\u001b[0;32m    <a href='file:///e%3A/Users/abega/AppData/Local/Programs/Python/Python39/lib/site-packages/pandas/io/excel/_base.py?line=488'>489</a>\u001b[0m         mangle_dupe_cols\u001b[39m=\u001b[39;49mmangle_dupe_cols,\n\u001b[0;32m    <a href='file:///e%3A/Users/abega/AppData/Local/Programs/Python/Python39/lib/site-packages/pandas/io/excel/_base.py?line=489'>490</a>\u001b[0m     )\n\u001b[0;32m    <a href='file:///e%3A/Users/abega/AppData/Local/Programs/Python/Python39/lib/site-packages/pandas/io/excel/_base.py?line=490'>491</a>\u001b[0m \u001b[39mfinally\u001b[39;00m:\n\u001b[0;32m    <a href='file:///e%3A/Users/abega/AppData/Local/Programs/Python/Python39/lib/site-packages/pandas/io/excel/_base.py?line=491'>492</a>\u001b[0m     \u001b[39m# make sure to close opened file handles\u001b[39;00m\n\u001b[0;32m    <a href='file:///e%3A/Users/abega/AppData/Local/Programs/Python/Python39/lib/site-packages/pandas/io/excel/_base.py?line=492'>493</a>\u001b[0m     \u001b[39mif\u001b[39;00m should_close:\n",
      "File \u001b[1;32m~\\AppData\\Local\\Programs\\Python\\Python39\\lib\\site-packages\\pandas\\io\\excel\\_base.py:1458\u001b[0m, in \u001b[0;36mExcelFile.parse\u001b[1;34m(self, sheet_name, header, names, index_col, usecols, squeeze, converters, true_values, false_values, skiprows, nrows, na_values, parse_dates, date_parser, thousands, comment, skipfooter, convert_float, mangle_dupe_cols, **kwds)\u001b[0m\n\u001b[0;32m   <a href='file:///e%3A/Users/abega/AppData/Local/Programs/Python/Python39/lib/site-packages/pandas/io/excel/_base.py?line=1423'>1424</a>\u001b[0m \u001b[39mdef\u001b[39;00m \u001b[39mparse\u001b[39m(\n\u001b[0;32m   <a href='file:///e%3A/Users/abega/AppData/Local/Programs/Python/Python39/lib/site-packages/pandas/io/excel/_base.py?line=1424'>1425</a>\u001b[0m     \u001b[39mself\u001b[39m,\n\u001b[0;32m   <a href='file:///e%3A/Users/abega/AppData/Local/Programs/Python/Python39/lib/site-packages/pandas/io/excel/_base.py?line=1425'>1426</a>\u001b[0m     sheet_name: \u001b[39mstr\u001b[39m \u001b[39m|\u001b[39m \u001b[39mint\u001b[39m \u001b[39m|\u001b[39m \u001b[39mlist\u001b[39m[\u001b[39mint\u001b[39m] \u001b[39m|\u001b[39m \u001b[39mlist\u001b[39m[\u001b[39mstr\u001b[39m] \u001b[39m|\u001b[39m \u001b[39mNone\u001b[39;00m \u001b[39m=\u001b[39m \u001b[39m0\u001b[39m,\n\u001b[1;32m   (...)\u001b[0m\n\u001b[0;32m   <a href='file:///e%3A/Users/abega/AppData/Local/Programs/Python/Python39/lib/site-packages/pandas/io/excel/_base.py?line=1444'>1445</a>\u001b[0m     \u001b[39m*\u001b[39m\u001b[39m*\u001b[39mkwds,\n\u001b[0;32m   <a href='file:///e%3A/Users/abega/AppData/Local/Programs/Python/Python39/lib/site-packages/pandas/io/excel/_base.py?line=1445'>1446</a>\u001b[0m ) \u001b[39m-\u001b[39m\u001b[39m>\u001b[39m DataFrame \u001b[39m|\u001b[39m \u001b[39mdict\u001b[39m[\u001b[39mstr\u001b[39m, DataFrame] \u001b[39m|\u001b[39m \u001b[39mdict\u001b[39m[\u001b[39mint\u001b[39m, DataFrame]:\n\u001b[0;32m   <a href='file:///e%3A/Users/abega/AppData/Local/Programs/Python/Python39/lib/site-packages/pandas/io/excel/_base.py?line=1446'>1447</a>\u001b[0m     \u001b[39m\"\"\"\u001b[39;00m\n\u001b[0;32m   <a href='file:///e%3A/Users/abega/AppData/Local/Programs/Python/Python39/lib/site-packages/pandas/io/excel/_base.py?line=1447'>1448</a>\u001b[0m \u001b[39m    Parse specified sheet(s) into a DataFrame.\u001b[39;00m\n\u001b[0;32m   <a href='file:///e%3A/Users/abega/AppData/Local/Programs/Python/Python39/lib/site-packages/pandas/io/excel/_base.py?line=1448'>1449</a>\u001b[0m \n\u001b[1;32m   (...)\u001b[0m\n\u001b[0;32m   <a href='file:///e%3A/Users/abega/AppData/Local/Programs/Python/Python39/lib/site-packages/pandas/io/excel/_base.py?line=1455'>1456</a>\u001b[0m \u001b[39m        DataFrame from the passed in Excel file.\u001b[39;00m\n\u001b[0;32m   <a href='file:///e%3A/Users/abega/AppData/Local/Programs/Python/Python39/lib/site-packages/pandas/io/excel/_base.py?line=1456'>1457</a>\u001b[0m \u001b[39m    \"\"\"\u001b[39;00m\n\u001b[1;32m-> <a href='file:///e%3A/Users/abega/AppData/Local/Programs/Python/Python39/lib/site-packages/pandas/io/excel/_base.py?line=1457'>1458</a>\u001b[0m     \u001b[39mreturn\u001b[39;00m \u001b[39mself\u001b[39m\u001b[39m.\u001b[39m_reader\u001b[39m.\u001b[39mparse(\n\u001b[0;32m   <a href='file:///e%3A/Users/abega/AppData/Local/Programs/Python/Python39/lib/site-packages/pandas/io/excel/_base.py?line=1458'>1459</a>\u001b[0m         sheet_name\u001b[39m=\u001b[39msheet_name,\n\u001b[0;32m   <a href='file:///e%3A/Users/abega/AppData/Local/Programs/Python/Python39/lib/site-packages/pandas/io/excel/_base.py?line=1459'>1460</a>\u001b[0m         header\u001b[39m=\u001b[39mheader,\n\u001b[0;32m   <a href='file:///e%3A/Users/abega/AppData/Local/Programs/Python/Python39/lib/site-packages/pandas/io/excel/_base.py?line=1460'>1461</a>\u001b[0m         names\u001b[39m=\u001b[39mnames,\n\u001b[0;32m   <a href='file:///e%3A/Users/abega/AppData/Local/Programs/Python/Python39/lib/site-packages/pandas/io/excel/_base.py?line=1461'>1462</a>\u001b[0m         index_col\u001b[39m=\u001b[39mindex_col,\n\u001b[0;32m   <a href='file:///e%3A/Users/abega/AppData/Local/Programs/Python/Python39/lib/site-packages/pandas/io/excel/_base.py?line=1462'>1463</a>\u001b[0m         usecols\u001b[39m=\u001b[39musecols,\n\u001b[0;32m   <a href='file:///e%3A/Users/abega/AppData/Local/Programs/Python/Python39/lib/site-packages/pandas/io/excel/_base.py?line=1463'>1464</a>\u001b[0m         squeeze\u001b[39m=\u001b[39msqueeze,\n\u001b[0;32m   <a href='file:///e%3A/Users/abega/AppData/Local/Programs/Python/Python39/lib/site-packages/pandas/io/excel/_base.py?line=1464'>1465</a>\u001b[0m         converters\u001b[39m=\u001b[39mconverters,\n\u001b[0;32m   <a href='file:///e%3A/Users/abega/AppData/Local/Programs/Python/Python39/lib/site-packages/pandas/io/excel/_base.py?line=1465'>1466</a>\u001b[0m         true_values\u001b[39m=\u001b[39mtrue_values,\n\u001b[0;32m   <a href='file:///e%3A/Users/abega/AppData/Local/Programs/Python/Python39/lib/site-packages/pandas/io/excel/_base.py?line=1466'>1467</a>\u001b[0m         false_values\u001b[39m=\u001b[39mfalse_values,\n\u001b[0;32m   <a href='file:///e%3A/Users/abega/AppData/Local/Programs/Python/Python39/lib/site-packages/pandas/io/excel/_base.py?line=1467'>1468</a>\u001b[0m         skiprows\u001b[39m=\u001b[39mskiprows,\n\u001b[0;32m   <a href='file:///e%3A/Users/abega/AppData/Local/Programs/Python/Python39/lib/site-packages/pandas/io/excel/_base.py?line=1468'>1469</a>\u001b[0m         nrows\u001b[39m=\u001b[39mnrows,\n\u001b[0;32m   <a href='file:///e%3A/Users/abega/AppData/Local/Programs/Python/Python39/lib/site-packages/pandas/io/excel/_base.py?line=1469'>1470</a>\u001b[0m         na_values\u001b[39m=\u001b[39mna_values,\n\u001b[0;32m   <a href='file:///e%3A/Users/abega/AppData/Local/Programs/Python/Python39/lib/site-packages/pandas/io/excel/_base.py?line=1470'>1471</a>\u001b[0m         parse_dates\u001b[39m=\u001b[39mparse_dates,\n\u001b[0;32m   <a href='file:///e%3A/Users/abega/AppData/Local/Programs/Python/Python39/lib/site-packages/pandas/io/excel/_base.py?line=1471'>1472</a>\u001b[0m         date_parser\u001b[39m=\u001b[39mdate_parser,\n\u001b[0;32m   <a href='file:///e%3A/Users/abega/AppData/Local/Programs/Python/Python39/lib/site-packages/pandas/io/excel/_base.py?line=1472'>1473</a>\u001b[0m         thousands\u001b[39m=\u001b[39mthousands,\n\u001b[0;32m   <a href='file:///e%3A/Users/abega/AppData/Local/Programs/Python/Python39/lib/site-packages/pandas/io/excel/_base.py?line=1473'>1474</a>\u001b[0m         comment\u001b[39m=\u001b[39mcomment,\n\u001b[0;32m   <a href='file:///e%3A/Users/abega/AppData/Local/Programs/Python/Python39/lib/site-packages/pandas/io/excel/_base.py?line=1474'>1475</a>\u001b[0m         skipfooter\u001b[39m=\u001b[39mskipfooter,\n\u001b[0;32m   <a href='file:///e%3A/Users/abega/AppData/Local/Programs/Python/Python39/lib/site-packages/pandas/io/excel/_base.py?line=1475'>1476</a>\u001b[0m         convert_float\u001b[39m=\u001b[39mconvert_float,\n\u001b[0;32m   <a href='file:///e%3A/Users/abega/AppData/Local/Programs/Python/Python39/lib/site-packages/pandas/io/excel/_base.py?line=1476'>1477</a>\u001b[0m         mangle_dupe_cols\u001b[39m=\u001b[39mmangle_dupe_cols,\n\u001b[0;32m   <a href='file:///e%3A/Users/abega/AppData/Local/Programs/Python/Python39/lib/site-packages/pandas/io/excel/_base.py?line=1477'>1478</a>\u001b[0m         \u001b[39m*\u001b[39m\u001b[39m*\u001b[39mkwds,\n\u001b[0;32m   <a href='file:///e%3A/Users/abega/AppData/Local/Programs/Python/Python39/lib/site-packages/pandas/io/excel/_base.py?line=1478'>1479</a>\u001b[0m     )\n",
      "File \u001b[1;32m~\\AppData\\Local\\Programs\\Python\\Python39\\lib\\site-packages\\pandas\\io\\excel\\_base.py:638\u001b[0m, in \u001b[0;36mBaseExcelReader.parse\u001b[1;34m(self, sheet_name, header, names, index_col, usecols, squeeze, dtype, true_values, false_values, skiprows, nrows, na_values, verbose, parse_dates, date_parser, thousands, decimal, comment, skipfooter, convert_float, mangle_dupe_cols, **kwds)\u001b[0m\n\u001b[0;32m    <a href='file:///e%3A/Users/abega/AppData/Local/Programs/Python/Python39/lib/site-packages/pandas/io/excel/_base.py?line=634'>635</a>\u001b[0m \u001b[39melse\u001b[39;00m:  \u001b[39m# assume an integer if not a string\u001b[39;00m\n\u001b[0;32m    <a href='file:///e%3A/Users/abega/AppData/Local/Programs/Python/Python39/lib/site-packages/pandas/io/excel/_base.py?line=635'>636</a>\u001b[0m     sheet \u001b[39m=\u001b[39m \u001b[39mself\u001b[39m\u001b[39m.\u001b[39mget_sheet_by_index(asheetname)\n\u001b[1;32m--> <a href='file:///e%3A/Users/abega/AppData/Local/Programs/Python/Python39/lib/site-packages/pandas/io/excel/_base.py?line=637'>638</a>\u001b[0m data \u001b[39m=\u001b[39m \u001b[39mself\u001b[39;49m\u001b[39m.\u001b[39;49mget_sheet_data(sheet, convert_float)\n\u001b[0;32m    <a href='file:///e%3A/Users/abega/AppData/Local/Programs/Python/Python39/lib/site-packages/pandas/io/excel/_base.py?line=638'>639</a>\u001b[0m \u001b[39mif\u001b[39;00m \u001b[39mhasattr\u001b[39m(sheet, \u001b[39m\"\u001b[39m\u001b[39mclose\u001b[39m\u001b[39m\"\u001b[39m):\n\u001b[0;32m    <a href='file:///e%3A/Users/abega/AppData/Local/Programs/Python/Python39/lib/site-packages/pandas/io/excel/_base.py?line=639'>640</a>\u001b[0m     \u001b[39m# pyxlsb opens two TemporaryFiles\u001b[39;00m\n\u001b[0;32m    <a href='file:///e%3A/Users/abega/AppData/Local/Programs/Python/Python39/lib/site-packages/pandas/io/excel/_base.py?line=640'>641</a>\u001b[0m     sheet\u001b[39m.\u001b[39mclose()\n",
      "File \u001b[1;32m~\\AppData\\Local\\Programs\\Python\\Python39\\lib\\site-packages\\pandas\\io\\excel\\_openpyxl.py:575\u001b[0m, in \u001b[0;36mOpenpyxlReader.get_sheet_data\u001b[1;34m(self, sheet, convert_float)\u001b[0m\n\u001b[0;32m    <a href='file:///e%3A/Users/abega/AppData/Local/Programs/Python/Python39/lib/site-packages/pandas/io/excel/_openpyxl.py?line=572'>573</a>\u001b[0m data: \u001b[39mlist\u001b[39m[\u001b[39mlist\u001b[39m[Scalar]] \u001b[39m=\u001b[39m []\n\u001b[0;32m    <a href='file:///e%3A/Users/abega/AppData/Local/Programs/Python/Python39/lib/site-packages/pandas/io/excel/_openpyxl.py?line=573'>574</a>\u001b[0m last_row_with_data \u001b[39m=\u001b[39m \u001b[39m-\u001b[39m\u001b[39m1\u001b[39m\n\u001b[1;32m--> <a href='file:///e%3A/Users/abega/AppData/Local/Programs/Python/Python39/lib/site-packages/pandas/io/excel/_openpyxl.py?line=574'>575</a>\u001b[0m \u001b[39mfor\u001b[39;00m row_number, row \u001b[39min\u001b[39;00m \u001b[39menumerate\u001b[39m(sheet\u001b[39m.\u001b[39mrows):\n\u001b[0;32m    <a href='file:///e%3A/Users/abega/AppData/Local/Programs/Python/Python39/lib/site-packages/pandas/io/excel/_openpyxl.py?line=575'>576</a>\u001b[0m     converted_row \u001b[39m=\u001b[39m [\u001b[39mself\u001b[39m\u001b[39m.\u001b[39m_convert_cell(cell, convert_float) \u001b[39mfor\u001b[39;00m cell \u001b[39min\u001b[39;00m row]\n\u001b[0;32m    <a href='file:///e%3A/Users/abega/AppData/Local/Programs/Python/Python39/lib/site-packages/pandas/io/excel/_openpyxl.py?line=576'>577</a>\u001b[0m     \u001b[39mwhile\u001b[39;00m converted_row \u001b[39mand\u001b[39;00m converted_row[\u001b[39m-\u001b[39m\u001b[39m1\u001b[39m] \u001b[39m==\u001b[39m \u001b[39m\"\u001b[39m\u001b[39m\"\u001b[39m:\n\u001b[0;32m    <a href='file:///e%3A/Users/abega/AppData/Local/Programs/Python/Python39/lib/site-packages/pandas/io/excel/_openpyxl.py?line=577'>578</a>\u001b[0m         \u001b[39m# trim trailing empty elements\u001b[39;00m\n",
      "File \u001b[1;32m~\\AppData\\Local\\Programs\\Python\\Python39\\lib\\site-packages\\openpyxl\\worksheet\\_read_only.py:79\u001b[0m, in \u001b[0;36mReadOnlyWorksheet._cells_by_row\u001b[1;34m(self, min_col, min_row, max_col, max_row, values_only)\u001b[0m\n\u001b[0;32m     <a href='file:///e%3A/Users/abega/AppData/Local/Programs/Python/Python39/lib/site-packages/openpyxl/worksheet/_read_only.py?line=74'>75</a>\u001b[0m src \u001b[39m=\u001b[39m \u001b[39mself\u001b[39m\u001b[39m.\u001b[39m_get_source()\n\u001b[0;32m     <a href='file:///e%3A/Users/abega/AppData/Local/Programs/Python/Python39/lib/site-packages/openpyxl/worksheet/_read_only.py?line=75'>76</a>\u001b[0m parser \u001b[39m=\u001b[39m WorkSheetParser(src, \u001b[39mself\u001b[39m\u001b[39m.\u001b[39m_shared_strings,\n\u001b[0;32m     <a href='file:///e%3A/Users/abega/AppData/Local/Programs/Python/Python39/lib/site-packages/openpyxl/worksheet/_read_only.py?line=76'>77</a>\u001b[0m                          data_only\u001b[39m=\u001b[39m\u001b[39mself\u001b[39m\u001b[39m.\u001b[39mparent\u001b[39m.\u001b[39mdata_only, epoch\u001b[39m=\u001b[39m\u001b[39mself\u001b[39m\u001b[39m.\u001b[39mparent\u001b[39m.\u001b[39mepoch,\n\u001b[0;32m     <a href='file:///e%3A/Users/abega/AppData/Local/Programs/Python/Python39/lib/site-packages/openpyxl/worksheet/_read_only.py?line=77'>78</a>\u001b[0m                          date_formats\u001b[39m=\u001b[39m\u001b[39mself\u001b[39m\u001b[39m.\u001b[39mparent\u001b[39m.\u001b[39m_date_formats)\n\u001b[1;32m---> <a href='file:///e%3A/Users/abega/AppData/Local/Programs/Python/Python39/lib/site-packages/openpyxl/worksheet/_read_only.py?line=78'>79</a>\u001b[0m \u001b[39mfor\u001b[39;00m idx, row \u001b[39min\u001b[39;00m parser\u001b[39m.\u001b[39mparse():\n\u001b[0;32m     <a href='file:///e%3A/Users/abega/AppData/Local/Programs/Python/Python39/lib/site-packages/openpyxl/worksheet/_read_only.py?line=79'>80</a>\u001b[0m     \u001b[39mif\u001b[39;00m max_row \u001b[39mis\u001b[39;00m \u001b[39mnot\u001b[39;00m \u001b[39mNone\u001b[39;00m \u001b[39mand\u001b[39;00m idx \u001b[39m>\u001b[39m max_row:\n\u001b[0;32m     <a href='file:///e%3A/Users/abega/AppData/Local/Programs/Python/Python39/lib/site-packages/openpyxl/worksheet/_read_only.py?line=80'>81</a>\u001b[0m         \u001b[39mbreak\u001b[39;00m\n",
      "File \u001b[1;32m~\\AppData\\Local\\Programs\\Python\\Python39\\lib\\site-packages\\openpyxl\\worksheet\\_reader.py:144\u001b[0m, in \u001b[0;36mWorkSheetParser.parse\u001b[1;34m(self)\u001b[0m\n\u001b[0;32m    <a href='file:///e%3A/Users/abega/AppData/Local/Programs/Python/Python39/lib/site-packages/openpyxl/worksheet/_reader.py?line=124'>125</a>\u001b[0m properties \u001b[39m=\u001b[39m {\n\u001b[0;32m    <a href='file:///e%3A/Users/abega/AppData/Local/Programs/Python/Python39/lib/site-packages/openpyxl/worksheet/_reader.py?line=125'>126</a>\u001b[0m     PRINT_TAG: (\u001b[39m'\u001b[39m\u001b[39mprint_options\u001b[39m\u001b[39m'\u001b[39m, PrintOptions),\n\u001b[0;32m    <a href='file:///e%3A/Users/abega/AppData/Local/Programs/Python/Python39/lib/site-packages/openpyxl/worksheet/_reader.py?line=126'>127</a>\u001b[0m     MARGINS_TAG: (\u001b[39m'\u001b[39m\u001b[39mpage_margins\u001b[39m\u001b[39m'\u001b[39m, PageMargins),\n\u001b[1;32m   (...)\u001b[0m\n\u001b[0;32m    <a href='file:///e%3A/Users/abega/AppData/Local/Programs/Python/Python39/lib/site-packages/openpyxl/worksheet/_reader.py?line=138'>139</a>\u001b[0m \n\u001b[0;32m    <a href='file:///e%3A/Users/abega/AppData/Local/Programs/Python/Python39/lib/site-packages/openpyxl/worksheet/_reader.py?line=139'>140</a>\u001b[0m }\n\u001b[0;32m    <a href='file:///e%3A/Users/abega/AppData/Local/Programs/Python/Python39/lib/site-packages/openpyxl/worksheet/_reader.py?line=141'>142</a>\u001b[0m it \u001b[39m=\u001b[39m iterparse(\u001b[39mself\u001b[39m\u001b[39m.\u001b[39msource) \u001b[39m# add a finaliser to close the source when this becomes possible\u001b[39;00m\n\u001b[1;32m--> <a href='file:///e%3A/Users/abega/AppData/Local/Programs/Python/Python39/lib/site-packages/openpyxl/worksheet/_reader.py?line=143'>144</a>\u001b[0m \u001b[39mfor\u001b[39;00m _, element \u001b[39min\u001b[39;00m it:\n\u001b[0;32m    <a href='file:///e%3A/Users/abega/AppData/Local/Programs/Python/Python39/lib/site-packages/openpyxl/worksheet/_reader.py?line=144'>145</a>\u001b[0m     tag_name \u001b[39m=\u001b[39m element\u001b[39m.\u001b[39mtag\n\u001b[0;32m    <a href='file:///e%3A/Users/abega/AppData/Local/Programs/Python/Python39/lib/site-packages/openpyxl/worksheet/_reader.py?line=145'>146</a>\u001b[0m     \u001b[39mif\u001b[39;00m tag_name \u001b[39min\u001b[39;00m dispatcher:\n",
      "File \u001b[1;32m~\\AppData\\Local\\Programs\\Python\\Python39\\lib\\xml\\etree\\ElementTree.py:1256\u001b[0m, in \u001b[0;36miterparse.<locals>.iterator\u001b[1;34m()\u001b[0m\n\u001b[0;32m   <a href='file:///e%3A/Users/abega/AppData/Local/Programs/Python/Python39/lib/xml/etree/ElementTree.py?line=1253'>1254</a>\u001b[0m \u001b[39myield from\u001b[39;00m pullparser\u001b[39m.\u001b[39mread_events()\n\u001b[0;32m   <a href='file:///e%3A/Users/abega/AppData/Local/Programs/Python/Python39/lib/xml/etree/ElementTree.py?line=1254'>1255</a>\u001b[0m \u001b[39m# load event buffer\u001b[39;00m\n\u001b[1;32m-> <a href='file:///e%3A/Users/abega/AppData/Local/Programs/Python/Python39/lib/xml/etree/ElementTree.py?line=1255'>1256</a>\u001b[0m data \u001b[39m=\u001b[39m source\u001b[39m.\u001b[39;49mread(\u001b[39m16\u001b[39;49m \u001b[39m*\u001b[39;49m \u001b[39m1024\u001b[39;49m)\n\u001b[0;32m   <a href='file:///e%3A/Users/abega/AppData/Local/Programs/Python/Python39/lib/xml/etree/ElementTree.py?line=1256'>1257</a>\u001b[0m \u001b[39mif\u001b[39;00m \u001b[39mnot\u001b[39;00m data:\n\u001b[0;32m   <a href='file:///e%3A/Users/abega/AppData/Local/Programs/Python/Python39/lib/xml/etree/ElementTree.py?line=1257'>1258</a>\u001b[0m     \u001b[39mbreak\u001b[39;00m\n",
      "File \u001b[1;32m~\\AppData\\Local\\Programs\\Python\\Python39\\lib\\zipfile.py:922\u001b[0m, in \u001b[0;36mZipExtFile.read\u001b[1;34m(self, n)\u001b[0m\n\u001b[0;32m    <a href='file:///e%3A/Users/abega/AppData/Local/Programs/Python/Python39/lib/zipfile.py?line=919'>920</a>\u001b[0m \u001b[39mself\u001b[39m\u001b[39m.\u001b[39m_offset \u001b[39m=\u001b[39m \u001b[39m0\u001b[39m\n\u001b[0;32m    <a href='file:///e%3A/Users/abega/AppData/Local/Programs/Python/Python39/lib/zipfile.py?line=920'>921</a>\u001b[0m \u001b[39mwhile\u001b[39;00m n \u001b[39m>\u001b[39m \u001b[39m0\u001b[39m \u001b[39mand\u001b[39;00m \u001b[39mnot\u001b[39;00m \u001b[39mself\u001b[39m\u001b[39m.\u001b[39m_eof:\n\u001b[1;32m--> <a href='file:///e%3A/Users/abega/AppData/Local/Programs/Python/Python39/lib/zipfile.py?line=921'>922</a>\u001b[0m     data \u001b[39m=\u001b[39m \u001b[39mself\u001b[39;49m\u001b[39m.\u001b[39;49m_read1(n)\n\u001b[0;32m    <a href='file:///e%3A/Users/abega/AppData/Local/Programs/Python/Python39/lib/zipfile.py?line=922'>923</a>\u001b[0m     \u001b[39mif\u001b[39;00m n \u001b[39m<\u001b[39m \u001b[39mlen\u001b[39m(data):\n\u001b[0;32m    <a href='file:///e%3A/Users/abega/AppData/Local/Programs/Python/Python39/lib/zipfile.py?line=923'>924</a>\u001b[0m         \u001b[39mself\u001b[39m\u001b[39m.\u001b[39m_readbuffer \u001b[39m=\u001b[39m data\n",
      "File \u001b[1;32m~\\AppData\\Local\\Programs\\Python\\Python39\\lib\\zipfile.py:998\u001b[0m, in \u001b[0;36mZipExtFile._read1\u001b[1;34m(self, n)\u001b[0m\n\u001b[0;32m    <a href='file:///e%3A/Users/abega/AppData/Local/Programs/Python/Python39/lib/zipfile.py?line=995'>996</a>\u001b[0m \u001b[39melif\u001b[39;00m \u001b[39mself\u001b[39m\u001b[39m.\u001b[39m_compress_type \u001b[39m==\u001b[39m ZIP_DEFLATED:\n\u001b[0;32m    <a href='file:///e%3A/Users/abega/AppData/Local/Programs/Python/Python39/lib/zipfile.py?line=996'>997</a>\u001b[0m     n \u001b[39m=\u001b[39m \u001b[39mmax\u001b[39m(n, \u001b[39mself\u001b[39m\u001b[39m.\u001b[39mMIN_READ_SIZE)\n\u001b[1;32m--> <a href='file:///e%3A/Users/abega/AppData/Local/Programs/Python/Python39/lib/zipfile.py?line=997'>998</a>\u001b[0m     data \u001b[39m=\u001b[39m \u001b[39mself\u001b[39;49m\u001b[39m.\u001b[39;49m_decompressor\u001b[39m.\u001b[39;49mdecompress(data, n)\n\u001b[0;32m    <a href='file:///e%3A/Users/abega/AppData/Local/Programs/Python/Python39/lib/zipfile.py?line=998'>999</a>\u001b[0m     \u001b[39mself\u001b[39m\u001b[39m.\u001b[39m_eof \u001b[39m=\u001b[39m (\u001b[39mself\u001b[39m\u001b[39m.\u001b[39m_decompressor\u001b[39m.\u001b[39meof \u001b[39mor\u001b[39;00m\n\u001b[0;32m   <a href='file:///e%3A/Users/abega/AppData/Local/Programs/Python/Python39/lib/zipfile.py?line=999'>1000</a>\u001b[0m                  \u001b[39mself\u001b[39m\u001b[39m.\u001b[39m_compress_left \u001b[39m<\u001b[39m\u001b[39m=\u001b[39m \u001b[39m0\u001b[39m \u001b[39mand\u001b[39;00m\n\u001b[0;32m   <a href='file:///e%3A/Users/abega/AppData/Local/Programs/Python/Python39/lib/zipfile.py?line=1000'>1001</a>\u001b[0m                  \u001b[39mnot\u001b[39;00m \u001b[39mself\u001b[39m\u001b[39m.\u001b[39m_decompressor\u001b[39m.\u001b[39munconsumed_tail)\n\u001b[0;32m   <a href='file:///e%3A/Users/abega/AppData/Local/Programs/Python/Python39/lib/zipfile.py?line=1001'>1002</a>\u001b[0m     \u001b[39mif\u001b[39;00m \u001b[39mself\u001b[39m\u001b[39m.\u001b[39m_eof:\n",
      "\u001b[1;31mKeyboardInterrupt\u001b[0m: "
     ]
    }
   ],
   "source": [
    "for name in channel_list['Names'].values:\n",
    "    file_path = f'E:/Users/abega/Documents/Data Projects/scrapper/Output/channel/March 5/{name}.xlsx'\n",
    "    if exists(file_path):\n",
    "        df = pd.read_excel(file_path)\n",
    "        meta = df['meta'].values\n",
    "        links = df['link'].values\n",
    "\n",
    "        for text in meta[30:38]:\n",
    "            text_list = text.split(name)\n",
    "            if len(text_list) == 2:\n",
    "                \n",
    "                title = text_list[0]\n",
    "                list_text = Counter(text_list[1].split)\n",
    "                channel  = name\n",
    "                print(title, views, list_text)\n",
    "                view = [list(list_text)[-2]]\n",
    "                # list_text = text.split(' by ')\n",
    "                # post_title = list_text[0]\n",
    "                list_text = text.split('ago')\n",
    "                print(text, list_text)\n",
    "                channel_post_date = list_text[0]\n",
    "                duration_views = list_text[1]\n",
    "                views = duration_views.split(' ')[-2]\n",
    "                duration = ''\n",
    "            for i in range(len(duration_views[:-2])):\n",
    "                duration = duration + duration_views[i]\n",
    "\n",
    "                view.append({'03/03/22': views.replace(',','')})\n"
   ]
  },
  {
   "cell_type": "code",
   "execution_count": 25,
   "metadata": {},
   "outputs": [],
   "source": [
    "Channels_df = pd.read_csv('channels.csv')\n",
    "meta = Channels_df['meta'].values\n",
    "links = Channels_df['link'].values"
   ]
  },
  {
   "cell_type": "code",
   "execution_count": 35,
   "metadata": {},
   "outputs": [
    {
     "name": "stdout",
     "output_type": "stream",
     "text": [
      "['SDET (ስደት) by Berhane Wedi Haleka - NEW ERITREAN MUSIC Coming Soon @ADMAS MUSIC by ADMAS MUSIC 1 month ', ' 2 minutes, 33 seconds 119,234 views']\n"
     ]
    }
   ],
   "source": [
    "text = meta[36:38]\n",
    "print(text[1].split('ago'))"
   ]
  },
  {
   "cell_type": "code",
   "execution_count": 37,
   "metadata": {},
   "outputs": [
    {
     "name": "stdout",
     "output_type": "stream",
     "text": [
      "Fikru Yilkal  - Wub Ager Gonder  | ዉብ ሀገር ጎንደር - New Ethiopian Music 2022 by ADMAS MUSIC 5 days ago 6 minutes, 33 seconds 3,889 views ['ADMAS MUSIC 5 days ', ' 6 minutes, 33 seconds 3,889 views']\n",
      "Filmon Fissehaye  - Ajoka  | ኣጆኻ - New Eritrean Music 2022 by ADMAS MUSIC 2 weeks ago 4 minutes, 45 seconds 6,124 views ['ADMAS MUSIC 2 weeks ', ' 4 minutes, 45 seconds 6,124 views']\n",
      "Nahom Da - Lbona eta Lebam | ልቦና እታ ለባም - New Eritrean Music 2022 by ADMAS MUSIC 2 weeks ago 3 minutes, 59 seconds 13,565 views ['ADMAS MUSIC 2 weeks ', ' 3 minutes, 59 seconds 13,565 views']\n",
      "Tekhali Gebrehiwet - Kxbeyeki Eye | ክጽበየኪ እየ - New Eritrean Music 2022 by ADMAS MUSIC 3 weeks ago 5 minutes, 58 seconds 11,422 views ['ADMAS MUSIC 3 weeks ', ' 5 minutes, 58 seconds 11,422 views']\n",
      "Hussein Basheqir - Beker Sham | በክር ሻም  ብ ሑሴን ባሸቂር - New Eritrean Music 2022 by ADMAS MUSIC 1 month ago 5 minutes, 40 seconds 13,992 views ['ADMAS MUSIC 1 month ', ' 5 minutes, 40 seconds 13,992 views']\n",
      "Fishale Mujo - Bahli Ade'boy | ባህሊ ዓደ'ቦይ - New Eritrean Music 2022 by ADMAS MUSIC 1 month ago 3 minutes, 37 seconds 10,220 views ['ADMAS MUSIC 1 month ', ' 3 minutes, 37 seconds 10,220 views']\n",
      "SDET - ስደት by Berhane Teweldemedhin (Wedi Haleka) - New Eritrean Music 2022 by ADMAS MUSIC 1 month ago 5 minutes 516,120 views ['Berhane Teweldemedhin (Wedi Haleka) - New Eritrean Music 2022']\n"
     ]
    },
    {
     "ename": "IndexError",
     "evalue": "list index out of range",
     "output_type": "error",
     "traceback": [
      "\u001b[1;31m---------------------------------------------------------------------------\u001b[0m",
      "\u001b[1;31mIndexError\u001b[0m                                Traceback (most recent call last)",
      "\u001b[1;32me:\\Users\\abega\\Documents\\Data Projects\\Z_Processer\\String_processing.ipynb Cell 6'\u001b[0m in \u001b[0;36m<cell line: 2>\u001b[1;34m()\u001b[0m\n\u001b[0;32m      <a href='vscode-notebook-cell:/e%3A/Users/abega/Documents/Data%20Projects/Z_Processer/String_processing.ipynb#ch0000010?line=6'>7</a>\u001b[0m \u001b[39mprint\u001b[39m(text, text_list)\n\u001b[0;32m      <a href='vscode-notebook-cell:/e%3A/Users/abega/Documents/Data%20Projects/Z_Processer/String_processing.ipynb#ch0000010?line=7'>8</a>\u001b[0m channel_post_date \u001b[39m=\u001b[39m text_list[\u001b[39m0\u001b[39m]\n\u001b[1;32m----> <a href='vscode-notebook-cell:/e%3A/Users/abega/Documents/Data%20Projects/Z_Processer/String_processing.ipynb#ch0000010?line=8'>9</a>\u001b[0m duration_views \u001b[39m=\u001b[39m text_list[\u001b[39m1\u001b[39;49m]\n\u001b[0;32m     <a href='vscode-notebook-cell:/e%3A/Users/abega/Documents/Data%20Projects/Z_Processer/String_processing.ipynb#ch0000010?line=9'>10</a>\u001b[0m views \u001b[39m=\u001b[39m duration_views\u001b[39m.\u001b[39msplit(\u001b[39m'\u001b[39m\u001b[39m \u001b[39m\u001b[39m'\u001b[39m)[\u001b[39m-\u001b[39m\u001b[39m2\u001b[39m]\n\u001b[0;32m     <a href='vscode-notebook-cell:/e%3A/Users/abega/Documents/Data%20Projects/Z_Processer/String_processing.ipynb#ch0000010?line=10'>11</a>\u001b[0m duration \u001b[39m=\u001b[39m \u001b[39m'\u001b[39m\u001b[39m'\u001b[39m\n",
      "\u001b[1;31mIndexError\u001b[0m: list index out of range"
     ]
    }
   ],
   "source": [
    "i = 0\n",
    "for text in meta[30:38]:\n",
    "    view = []\n",
    "    list_text = text.split(' by ')\n",
    "    post_title = list_text[0]\n",
    "    list_text = text.split('ago')\n",
    "    print(text, list_text)\n",
    "    channel_post_date = list_text[0]\n",
    "    duration_views = list_text[1]\n",
    "    views = duration_views.split(' ')[-2]\n",
    "    duration = ''\n",
    "    for i in range(len(duration_views[:-2])):\n",
    "        duration = duration + duration_views[i]\n",
    "\n",
    "    view.append({'03/03/22': views.replace(',','')})\n",
    "\n",
    "    # data = {\"meta\": text, 'title': channel_post_date, 'duration': duration,  \"views\":view, 'link': links[i]}\n",
    "    # payload = json.dumps({\"collection\": \"posts\", \"database\": \"ethiopian_music\", \"dataSource\": \"Cluster0\", \"document\": data})\n",
    "\n",
    "    # try: \n",
    "    #     response = requests.request(\"POST\", insertOne_URI, headers=headers, data=payload)\n",
    "    #     print(response.text, i)\n",
    "    # except:\n",
    "    #     print(\"Connection Error\", ' ', i)\n",
    "    #     response = requests.request(\"POST\", insertOne_URI, headers=headers, data=payload)\n",
    "    #     print(response.text, i)\n",
    "# print(duration_views.split(' ')[-2])"
   ]
  },
  {
   "cell_type": "code",
   "execution_count": null,
   "metadata": {},
   "outputs": [],
   "source": []
  },
  {
   "cell_type": "code",
   "execution_count": null,
   "metadata": {},
   "outputs": [],
   "source": []
  },
  {
   "cell_type": "code",
   "execution_count": 10,
   "metadata": {},
   "outputs": [
    {
     "name": "stdout",
     "output_type": "stream",
     "text": [
      "39429\n",
      "Kinfe Gebregergis - Lekiyoma by Ethiopian Music 9 years ago 7 minutes, 10 seconds 523,326 views\n",
      "38910\n"
     ]
    }
   ],
   "source": [
    "print(len(links))\n",
    "print(meta[9409])\n",
    "print(len(Channels_df['link'].unique()))"
   ]
  },
  {
   "cell_type": "code",
   "execution_count": 5,
   "metadata": {},
   "outputs": [
    {
     "name": "stdout",
     "output_type": "stream",
     "text": [
      "Failed to insert document: FunctionError: Duplicate key error: E11000 duplicate key error collection: ethiopian_music.posts index: _id_ dup key: { _id: \"https://www.youtube.com/watch?v=YUZc2j7f_LI\" }\n",
      "Failed to insert document: FunctionError: Duplicate key error: E11000 duplicate key error collection: ethiopian_music.posts index: _id_ dup key: { _id: \"https://www.youtube.com/watch?v=JZyoHoRAkAY\" }\n",
      "Failed to insert document: FunctionError: Duplicate key error: E11000 duplicate key error collection: ethiopian_music.posts index: _id_ dup key: { _id: \"https://www.youtube.com/watch?v=YggozuKb_B4\" }\n",
      "Failed to insert document: FunctionError: Duplicate key error: E11000 duplicate key error collection: ethiopian_music.posts index: _id_ dup key: { _id: \"https://www.youtube.com/watch?v=OjWAy35UznI\" }\n",
      "Failed to insert document: FunctionError: Duplicate key error: E11000 duplicate key error collection: ethiopian_music.posts index: _id_ dup key: { _id: \"https://www.youtube.com/watch?v=Bt4P_0D6-OU\" }\n",
      "Failed to insert document: FunctionError: Duplicate key error: E11000 duplicate key error collection: ethiopian_music.posts index: _id_ dup key: { _id: \"https://www.youtube.com/watch?v=VhSIcgJsqzA\" }\n",
      "Failed to insert document: FunctionError: Duplicate key error: E11000 duplicate key error collection: ethiopian_music.posts index: _id_ dup key: { _id: \"https://www.youtube.com/watch?v=OD3eOH7GKXs\" }\n",
      "Failed to insert document: FunctionError: Duplicate key error: E11000 duplicate key error collection: ethiopian_music.posts index: _id_ dup key: { _id: \"https://www.youtube.com/watch?v=P3I22odfeE0\" }\n",
      "Failed to insert document: FunctionError: Duplicate key error: E11000 duplicate key error collection: ethiopian_music.posts index: _id_ dup key: { _id: \"https://www.youtube.com/watch?v=A_IjZth9dj0\" }\n",
      "Failed to insert document: FunctionError: Duplicate key error: E11000 duplicate key error collection: ethiopian_music.posts index: _id_ dup key: { _id: \"https://www.youtube.com/watch?v=QXXZq2QIHKs\" }\n",
      "Failed to insert document: FunctionError: Duplicate key error: E11000 duplicate key error collection: ethiopian_music.posts index: _id_ dup key: { _id: \"https://www.youtube.com/watch?v=3zSYxRF39K0\" }\n",
      "Failed to insert document: FunctionError: Duplicate key error: E11000 duplicate key error collection: ethiopian_music.posts index: _id_ dup key: { _id: \"https://www.youtube.com/watch?v=913aIFJSkQI\" }\n",
      "Failed to insert document: FunctionError: Duplicate key error: E11000 duplicate key error collection: ethiopian_music.posts index: _id_ dup key: { _id: \"https://www.youtube.com/watch?v=e-wc5QqPgbo\" }\n",
      "Connection Error   9418\n",
      "Failed to insert document: FunctionError: Duplicate key error: E11000 duplicate key error collection: ethiopian_music.posts index: _id_ dup key: { _id: \"https://www.youtube.com/watch?v=FUPeQv9YVPY\" }\n",
      "Failed to insert document: FunctionError: Duplicate key error: E11000 duplicate key error collection: ethiopian_music.posts index: _id_ dup key: { _id: \"https://www.youtube.com/watch?v=xH70FOPS7nk\" }\n",
      "Failed to insert document: FunctionError: Duplicate key error: E11000 duplicate key error collection: ethiopian_music.posts index: _id_ dup key: { _id: \"https://www.youtube.com/watch?v=XKJV4c3gS48\" }\n",
      "Failed to insert document: FunctionError: Duplicate key error: E11000 duplicate key error collection: ethiopian_music.posts index: _id_ dup key: { _id: \"https://www.youtube.com/watch?v=GuIXHnUwtZ4\" }\n",
      "Failed to insert document: FunctionError: Duplicate key error: E11000 duplicate key error collection: ethiopian_music.posts index: _id_ dup key: { _id: \"https://www.youtube.com/watch?v=chBaI2xJYNc\" }\n",
      "Failed to insert document: FunctionError: Duplicate key error: E11000 duplicate key error collection: ethiopian_music.posts index: _id_ dup key: { _id: \"https://www.youtube.com/watch?v=MA3jpAYFhYw\" }\n",
      "Failed to insert document: FunctionError: Duplicate key error: E11000 duplicate key error collection: ethiopian_music.posts index: _id_ dup key: { _id: \"https://www.youtube.com/watch?v=oa9dsoe7k84\" }\n",
      "Failed to insert document: FunctionError: Duplicate key error: E11000 duplicate key error collection: ethiopian_music.posts index: _id_ dup key: { _id: \"https://www.youtube.com/watch?v=Aec5qHC6ilk\" }\n",
      "Failed to insert document: FunctionError: Duplicate key error: E11000 duplicate key error collection: ethiopian_music.posts index: _id_ dup key: { _id: \"https://www.youtube.com/watch?v=GTgF6QE05Ec\" }\n",
      "Failed to insert document: FunctionError: Duplicate key error: E11000 duplicate key error collection: ethiopian_music.posts index: _id_ dup key: { _id: \"https://www.youtube.com/watch?v=EmN0ASvFbNU\" }\n",
      "Failed to insert document: FunctionError: Duplicate key error: E11000 duplicate key error collection: ethiopian_music.posts index: _id_ dup key: { _id: \"https://www.youtube.com/watch?v=6Fhn_UgxXVI\" }\n",
      "Failed to insert document: FunctionError: Duplicate key error: E11000 duplicate key error collection: ethiopian_music.posts index: _id_ dup key: { _id: \"https://www.youtube.com/watch?v=aOeuGo3-Oi4\" }\n"
     ]
    }
   ],
   "source": [
    "i = 9405\n",
    "record = []\n",
    "for text in meta[:(i+5)]:\n",
    "    words = text.split(' ')\n",
    "    view = []\n",
    "    views = words[-2].replace(',','')\n",
    "    view.append({'03/03/22': views})\n",
    "    data = {\"_id\": links[i], \"meta\": text, \"views\":view}\n",
    "    payload = json.dumps({\"collection\": \"posts\", \"database\": \"ethiopian_music\", \"dataSource\": \"Cluster0\", \"document\": data})\n",
    "\n",
    "    try: \n",
    "        response = requests.request(\"POST\", insertOne_URI, headers=headers, data=payload)\n",
    "        print(response.text)\n",
    "    except:\n",
    "        print(\"Connection Error\", ' ', i)\n",
    "        response = requests.request(\"POST\", insertOne_URI, headers=headers, data=payload)\n",
    "        print(response.text)\n",
    "\n",
    "    i = i+1"
   ]
  },
  {
   "cell_type": "code",
   "execution_count": 83,
   "metadata": {},
   "outputs": [
    {
     "name": "stdout",
     "output_type": "stream",
     "text": [
      "done\n",
      "<Response [400]>\n"
     ]
    }
   ],
   "source": [
    "data_df = pd.read_csv('All_Channels.csv')\n",
    "selections = ['_id', 'Channels', 'Meta', 'Duration', 'Views']\n",
    "record = []\n",
    "\n",
    "id = data_df[selections[0]].values\n",
    "channels = data_df[selections[1]].values\n",
    "meta = data_df[selections[2]].values\n",
    "duration = data_df[selections[3]].values\n",
    "views = data_df[selections[4]].values\n",
    "\n",
    "for i in range(5000, 5500):\n",
    "    if len(views[i].split(\" \"))>1:\n",
    "        view = views[i].split(\" \")[1]\n",
    "        viewsplit = view.split(\"')\")[0].replace(\"'\", \"\")\n",
    "    else:\n",
    "        viewsplit = views[i]\n",
    "    data = {'_id': id[i], 'Meta': [], 'Channels': channels[i], 'Duration': duration[i], 'Views': [{'03/03/22': viewsplit}]}\n",
    "    record.append(data)\n",
    "    \n",
    "print('done')\n",
    "payload = json.dumps({\"collection\": \"posts\", \"database\": \"ethiopian_music\", \"dataSource\": \"Cluster0\", \"documents\": record})\n",
    "response = requests.request(\"POST\", insertMany_URI, headers=headers, data=payload)\n",
    "print(response)\n",
    "\n"
   ]
  },
  {
   "cell_type": "code",
   "execution_count": 9,
   "metadata": {},
   "outputs": [
    {
     "ename": "IndexError",
     "evalue": "list index out of range",
     "output_type": "error",
     "traceback": [
      "\u001b[1;31m---------------------------------------------------------------------------\u001b[0m",
      "\u001b[1;31mIndexError\u001b[0m                                Traceback (most recent call last)",
      "\u001b[1;32me:\\Users\\abega\\Documents\\Data Projects\\Z_Processer\\String_processing.ipynb Cell 4'\u001b[0m in \u001b[0;36m<cell line: 10>\u001b[1;34m()\u001b[0m\n\u001b[0;32m     <a href='vscode-notebook-cell:/e%3A/Users/abega/Documents/Data%20Projects/Z_Processer/String_processing.ipynb#ch0000003?line=16'>17</a>\u001b[0m meta \u001b[39m=\u001b[39m metas[i]\n\u001b[0;32m     <a href='vscode-notebook-cell:/e%3A/Users/abega/Documents/Data%20Projects/Z_Processer/String_processing.ipynb#ch0000003?line=17'>18</a>\u001b[0m meta_text_list \u001b[39m=\u001b[39m meta\u001b[39m.\u001b[39msplit(\u001b[39m\"\u001b[39m\u001b[39mago\u001b[39m\u001b[39m\"\u001b[39m)\n\u001b[1;32m---> <a href='vscode-notebook-cell:/e%3A/Users/abega/Documents/Data%20Projects/Z_Processer/String_processing.ipynb#ch0000003?line=18'>19</a>\u001b[0m meta_list \u001b[39m=\u001b[39m meta_text_list[\u001b[39m1\u001b[39;49m]\u001b[39m.\u001b[39msplit(\u001b[39m\"\u001b[39m\u001b[39m \u001b[39m\u001b[39m\"\u001b[39m)\n\u001b[0;32m     <a href='vscode-notebook-cell:/e%3A/Users/abega/Documents/Data%20Projects/Z_Processer/String_processing.ipynb#ch0000003?line=19'>20</a>\u001b[0m duration \u001b[39m=\u001b[39m \u001b[39m'\u001b[39m\u001b[39m'\u001b[39m\n\u001b[0;32m     <a href='vscode-notebook-cell:/e%3A/Users/abega/Documents/Data%20Projects/Z_Processer/String_processing.ipynb#ch0000003?line=20'>21</a>\u001b[0m views \u001b[39m=\u001b[39m \u001b[39m'\u001b[39m\u001b[39m'\u001b[39m\n",
      "\u001b[1;31mIndexError\u001b[0m: list index out of range"
     ]
    }
   ],
   "source": [
    "channel_list = pd.read_excel('E:/Users/abega/Documents/Data Projects/scrapper/Output/links.xlsx')\n",
    "data = {\"Meta\": [], 'Links':[],\n",
    "'Channels': [],\n",
    "'Duration': [],\n",
    "'Views': []\n",
    "}\n",
    "\n",
    "\n",
    "for name in channel_list['Names'].values[1:]:\n",
    "    file_path = 'E:/Users/abega/Documents/Data Projects/scrapper/Output/channel/{channel_name}.xlsx'.format(channel_name=name)\n",
    "    if exists(file_path):\n",
    "        channel_df = pd.read_excel(file_path)\n",
    "        metas = channel_df['meta'].values\n",
    "        links = channel_df['link'].values\n",
    "        for i in range(channel_df.shape[0]):\n",
    "            meta = metas[i]\n",
    "            meta_text_list = meta.split(\"ago\")\n",
    "            meta_list = meta_text_list[1].split(\" \")\n",
    "            duration = ''\n",
    "            views = ''\n",
    "            \n",
    "            if meta_list[:-2]:\n",
    "                for text in meta_list[:-2]:\n",
    "                    duration = duration + text + \" \"\n",
    "                for text in meta_list[-2:-1]:\n",
    "                    views = text\n",
    "            data[\"Meta\"].append(meta)\n",
    "            data[\"Links\"].append(meta)\n",
    "            data[\"Channels\"].append(name)\n",
    "            data[\"Duration\"].append(duration)\n",
    "            data[\"Views\"].append(views)\n",
    "    else:\n",
    "        pass\n",
    "df = pd.DataFrame(data)\n",
    "df.to_csv('All_Channels.csv')\n"
   ]
  },
  {
   "cell_type": "code",
   "execution_count": null,
   "metadata": {},
   "outputs": [],
   "source": [
    "# try:\n",
    "#     for name in channel_list['Names'].values[1:]:\n",
    "#         file_path = 'E:/Users/abega/Documents/Data Projects/scrapper/Output/channel/March 5/{channel_name}.xlsx'.format(channel_name=name)\n",
    "#         channel_df = pd.read_excel(file_path)\n",
    "#         id_as_link = channel_df['link'].values\n",
    "#         for i in range(channel_df.shape[0]):\n",
    "#             id = id_as_link[i]\n",
    "            \n",
    "#             payload = json.dumps(\n",
    "#                             {\"collection\": \"youtube_channel_corpus\", \n",
    "#                                 \"database\": \"ethiopian_music\", \n",
    "#                                 \"dataSource\": \"Cluster0\", \n",
    "#                                 \"filter\": {'_id':id},})\n",
    "                    \n",
    "#             response = requests.request(\"POST\", find_URI, headers=headers, data=payload)\n",
    "#             response_j = response.json()\n",
    "#             meta = response_j['documents'][0]['Meta']\n",
    "#             meta_text_list = meta.split(\"ago\")\n",
    "#             meta_list = meta_text_list[1].split(\" \")\n",
    "#             duration = ''\n",
    "#             for text in meta_list[:-2]:\n",
    "#                 duration = duration + text + \" \"\n",
    "#             for text in meta_list[-2:-1]:\n",
    "#                 views = text\n",
    "#             payload = json.dumps(\n",
    "#                             {\"collection\": \"youtube_channel_corpus\", \n",
    "#                                 \"database\": \"ethiopian_music\", \n",
    "#                                 \"dataSource\": \"Cluster0\", \n",
    "#                                 \"filter\": {'_id':id},\n",
    "#                                 \"update\": {\"$set\": {\"duration\": duration, \"views\": [{'{}'.format(str(response_j['documents'][0]['Collection Date']).split(' ')[0]): views}]}}})\n",
    "#             update = requests.request(\"POST\", updateOne_URI, headers=headers, data=payload)\n",
    "#             print(update)\n",
    "# except:\n",
    "#     print(\"Fail\")"
   ]
  }
 ],
 "metadata": {
  "interpreter": {
   "hash": "34a834f15b212fdb7568439d83a97552b7b5dafb87b2385f811f0571e82fb4f9"
  },
  "kernelspec": {
   "display_name": "Python 3.9.7 64-bit",
   "language": "python",
   "name": "python3"
  },
  "language_info": {
   "codemirror_mode": {
    "name": "ipython",
    "version": 3
   },
   "file_extension": ".py",
   "mimetype": "text/x-python",
   "name": "python",
   "nbconvert_exporter": "python",
   "pygments_lexer": "ipython3",
   "version": "3.9.7"
  },
  "orig_nbformat": 4
 },
 "nbformat": 4,
 "nbformat_minor": 2
}
