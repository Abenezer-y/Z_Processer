{
 "cells": [
  {
   "cell_type": "code",
   "execution_count": 1,
   "metadata": {},
   "outputs": [],
   "source": [
    "import pandas as pd \n",
    "import requests\n",
    "import json\n",
    "import datetime"
   ]
  },
  {
   "cell_type": "code",
   "execution_count": 4,
   "metadata": {},
   "outputs": [],
   "source": [
    "channel_list = pd.read_excel('E:/Users/abega/Documents/Data Projects/scrapper/Output/links.xlsx')\n",
    "\n",
    "channel_info = {\"channel\":[], \"Posts\":[]}\n",
    "\n",
    "for name in channel_list['Names'].values[:6]:\n",
    "    file_path = 'E:/Users/abega/Documents/Data Projects/scrapper/Output/channel/{channel_name}.xlsx'.format(channel_name=name)\n",
    "    try:\n",
    "        channel_df = pd.read_excel(file_path)\n",
    "        meta = channel_df['Meta'].values\n",
    "        duration = meta.split(\"ago\")[:-2]\n",
    "        channel_info[\"channel\"].append(name)\n",
    "        channel_info[\"Posts\"].append(channel_df.shape[0])\n",
    "    except:\n",
    "        pass"
   ]
  },
  {
   "cell_type": "code",
   "execution_count": 24,
   "metadata": {},
   "outputs": [
    {
     "name": "stdout",
     "output_type": "stream",
     "text": [
      " 4 minutes, 55 seconds  433\n"
     ]
    }
   ],
   "source": [
    "name = channel_list['Names'].values[6]\n",
    "file_path = 'E:/Users/abega/Documents/Data Projects/scrapper/Output/channel/{channel_name}.xlsx'.format(channel_name=name)\n",
    "channel_df = pd.read_excel(file_path)\n",
    "meta = channel_df['meta'].values[0]\n",
    "meta_text_list = meta.split(\"ago\")\n",
    "meta_list = meta_text_list[1].split(\" \")\n",
    "duration = ''\n",
    "for text in meta_list[:-2]:\n",
    "    duration = duration + text + \" \"\n",
    "for text in meta_list[-2:-1]:\n",
    "    views = int(text)\n",
    "\n",
    "# channel_info[\"channel\"].append(name)\n",
    "# channel_info[\"Posts\"].append(channel_df.shape[0])"
   ]
  },
  {
   "cell_type": "code",
   "execution_count": null,
   "metadata": {},
   "outputs": [],
   "source": [
    "channel_list = pd.read_excel('E:/Users/abega/Documents/Data Projects/scrapper/Output/channel/Admas Music.xlsx')\n",
    "sentens = channel_list['meta'].values\n",
    "tokenizer = Tokenizer(num_words=10)\n",
    "tokenizer.fit_on_texts(sentens)\n",
    "word_index = tokenizer.word_index\n",
    "print(word_index)"
   ]
  }
 ],
 "metadata": {
  "interpreter": {
   "hash": "6710cfacd5c368854e1038c95ba170ce5fbc8ffc261c09e17abb916bd92c964e"
  },
  "kernelspec": {
   "display_name": "Python 3.9.7 ('music_env': venv)",
   "language": "python",
   "name": "python3"
  },
  "language_info": {
   "codemirror_mode": {
    "name": "ipython",
    "version": 3
   },
   "file_extension": ".py",
   "mimetype": "text/x-python",
   "name": "python",
   "nbconvert_exporter": "python",
   "pygments_lexer": "ipython3",
   "version": "3.9.7"
  },
  "orig_nbformat": 4
 },
 "nbformat": 4,
 "nbformat_minor": 2
}
